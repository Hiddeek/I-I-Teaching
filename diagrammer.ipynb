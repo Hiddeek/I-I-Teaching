{
 "cells": [
  {
   "cell_type": "markdown",
   "metadata": {},
   "source": [
    "# Diagrammer met Turtle graphics\n",
    "\n",
    "Dit notebook gebruikt Turtle graphics om verschillende vormen te tekenen. Exacte requirements hieronder\n",
    "\n",
    "We gebruiken de Canvas-library en een eenvoudige Turtle-module die daarop gebaseerd is. (Zie turtle.py)\n",
    "\n",
    "Dit materiaal is deels ontleend aan de nascholingsmodule VO Jupyter in een samenwerking tussen Bosswell-Beta en de UvA "
   ]
  },
  {
   "cell_type": "markdown",
   "metadata": {},
   "source": [
    "# Requirements: dit jupyter notebook maakt:"
   ]
  },
  {
   "cell_type": "markdown",
   "metadata": {},
   "source": [
    " 1. 6 vormen, namelijk: cirkels, vierkanten, rechthoeken, ovalen, sterren met vijf punten en pijlen.\n",
    " \n",
    " 2. De vormen zijn vast, maar er zijn per vorm enkele maten aan te geven. Een vierkant heeft bijvoorbeeld een “zijde” waarmee de hele vorm wordt vastgelegd. Een rechthoek heeft zowel een lengte als breedte.\n",
    "\n",
    " 3. Elke vorm heeft bovendien een positie die variabel is en bepaalt waar in het diagram de vorm geplaatst is.\n",
    "\n",
    " 4. Alle maten zijn in dezelfde eenheid gegeven, bijvoorbeeld pixels (maar de precieze aanduiding doet niet terzake).\n",
    "\n",
    " 5. Het belangrijkste deel van een figuur is een zogeheten Canvas, waar alle objecten zich op bevinden.\n",
    "\n",
    " 6. Elk Canvas heeft meerdere lagen (layers). Elk van de objecten in een diagram bevindt zich in feite op één van de lagen.\n",
    "\n",
    " 7. Elk object kan zichtbaar of onzichtbaar worden gemaakt.\n",
    "\n",
    " 8. Voor elk object kan een kleur van de rand en een kleur van de vulling worden ingesteld.\n",
    "\n",
    " 9. Elke laag kan in z’n geheel zichtbaar of onzichtbaar worden gemaakt.\n"
   ]
  },
  {
   "cell_type": "markdown",
   "metadata": {},
   "source": [
    "## 5. Canvas"
   ]
  },
  {
   "cell_type": "markdown",
   "metadata": {},
   "source": [
    "De \"turtle\" of t is de plek waar de pen (de coordinaten) het papier (een cartesiaans veld) raakt "
   ]
  },
  {
   "cell_type": "markdown",
   "metadata": {},
   "source": [
    "Het canvas is in eerste instantie leeg. Ook de her-initialisatie van de turtle, met t.init(), maakt het canvas weer leeg. \n",
    "Het canvas is het lege vel papier, waar je 1 of meerdere figuren op kan tekenen.\n"
   ]
  },
  {
   "cell_type": "code",
   "execution_count": 3,
   "metadata": {},
   "outputs": [],
   "source": [
    "from ipycanvas import Canvas\n",
    "import turtle"
   ]
  },
  {
   "cell_type": "code",
   "execution_count": 4,
   "metadata": {},
   "outputs": [
    {
     "data": {
      "application/vnd.jupyter.widget-view+json": {
       "model_id": "e0a003a52cf549af9618bf043652b99c",
       "version_major": 2,
       "version_minor": 0
      },
      "text/plain": [
       "Canvas(height=200, width=200)"
      ]
     },
     "metadata": {},
     "output_type": "display_data"
    }
   ],
   "source": [
    "canvas = Canvas(size=(200, 200))\n",
    "t = turtle.Turtle(canvas)\n",
    "canvas"
   ]
  },
  {
   "cell_type": "markdown",
   "metadata": {},
   "source": [
    "# 1. Vormen"
   ]
  },
  {
   "cell_type": "markdown",
   "metadata": {},
   "source": [
    "Eerst zullen we in dit notebook een \"vers\" Canvas geruiken per figuur: daarmee blijven de verschillende tussenstappen ook in het uiteidelijk volledig uitgevoerde notebook nog zichtbaar."
   ]
  },
  {
   "cell_type": "markdown",
   "metadata": {},
   "source": [
    "### Cirkels"
   ]
  },
  {
   "cell_type": "markdown",
   "metadata": {},
   "source": [
    "Cirkels zijn een complexere versie van de octagon. \n",
    "hoe vaker gebogen wordt, hoe preciezer de cirkel. \n",
    "Zie ook module J in de keuzevakken: programmeerparadigma's:\n",
    "https://jupyterhub.frajaweb.com/user/dazzlefish/notebooks/student/elm/1.%20Inleiding%20programmeerparadigma's/3.%20Programmeerparadigma's.ipynb: IJskristallen"
   ]
  },
  {
   "cell_type": "markdown",
   "metadata": {},
   "source": [
    "Maak hieronder de functie voor een regelmatige veelhoek, met `n` hoeken, af.\n",
    "* hoe vaak moet de elementaire actie herhaald worden?\n",
    "* over welke hoek moet de turtle draaien?\n"
   ]
  },
  {
   "cell_type": "code",
   "execution_count": 34,
   "metadata": {},
   "outputs": [],
   "source": [
    "def polygon(t, n, size):\n",
    "    ### BEGIN SOLUTION\n",
    "    for i in range(n):\n",
    "        t.forward(size)\n",
    "        t.right(360 / n)\n",
    "    ### END SOLUTION    "
   ]
  },
  {
   "cell_type": "code",
   "execution_count": 42,
   "metadata": {},
   "outputs": [
    {
     "data": {
      "application/vnd.jupyter.widget-view+json": {
       "model_id": "d2f06541e78249f5b2e897dbbd9336d6",
       "version_major": 2,
       "version_minor": 0
      },
      "text/plain": [
       "Canvas(height=300, width=200)"
      ]
     },
     "metadata": {},
     "output_type": "display_data"
    }
   ],
   "source": [
    "cirkelcanvas = Canvas(size=(200, 300))\n",
    "t_cirkel = turtle.Turtle(cirkelcanvas)\n",
    "\n",
    "t_cirkel.goto(0,-50)\n",
    "polygon(t_cirkel, 35, 15)\n",
    "cirkelcanvas"
   ]
  },
  {
   "cell_type": "markdown",
   "metadata": {},
   "source": [
    "### Vierkanten"
   ]
  },
  {
   "cell_type": "code",
   "execution_count": 7,
   "metadata": {},
   "outputs": [],
   "source": [
    "def square(t, w):\n",
    "    for i in range(4):\n",
    "        t.forward(w)\n",
    "        t.right(90)\n",
    "    "
   ]
  },
  {
   "cell_type": "code",
   "execution_count": 10,
   "metadata": {},
   "outputs": [
    {
     "data": {
      "application/vnd.jupyter.widget-view+json": {
       "model_id": "0479349fe8854a5e91e4aa33ba0c770c",
       "version_major": 2,
       "version_minor": 0
      },
      "text/plain": [
       "Canvas(height=200, width=200)"
      ]
     },
     "metadata": {},
     "output_type": "display_data"
    }
   ],
   "source": [
    "vierkantcanvas = Canvas(size=(200, 200))\n",
    "t_cirkel = turtle.Turtle(vierkantcanvas)\n",
    "square(t_cirkel, 60)\n",
    "vierkantcanvas"
   ]
  },
  {
   "cell_type": "markdown",
   "metadata": {},
   "source": [
    "### Rechthoeken"
   ]
  },
  {
   "cell_type": "code",
   "execution_count": 11,
   "metadata": {},
   "outputs": [],
   "source": [
    "def rectangle(t, w, z):\n",
    "    for i in range(2):\n",
    "        t.forward(w)\n",
    "        t.right(90)\n",
    "        t.forward(z)\n",
    "        t.right(90)"
   ]
  },
  {
   "cell_type": "code",
   "execution_count": 30,
   "metadata": {},
   "outputs": [
    {
     "data": {
      "application/vnd.jupyter.widget-view+json": {
       "model_id": "7aa6f2c3850b46eb9dd272da1a2bffe1",
       "version_major": 2,
       "version_minor": 0
      },
      "text/plain": [
       "Canvas(height=200, width=200)"
      ]
     },
     "metadata": {},
     "output_type": "display_data"
    }
   ],
   "source": [
    "rechthoekcanvas = Canvas(size=(200, 200))\n",
    "t_rechthoek = turtle.Turtle(rechthoekcanvas)\n",
    "\n",
    "rectangle(t_rechthoek, 70, 30)\n",
    "rechthoekcanvas"
   ]
  },
  {
   "cell_type": "markdown",
   "metadata": {},
   "source": [
    "### Ovalen"
   ]
  },
  {
   "cell_type": "code",
   "execution_count": null,
   "metadata": {},
   "outputs": [],
   "source": []
  },
  {
   "cell_type": "code",
   "execution_count": null,
   "metadata": {},
   "outputs": [],
   "source": []
  },
  {
   "cell_type": "markdown",
   "metadata": {},
   "source": [
    "### Sterren met 5 punten"
   ]
  },
  {
   "cell_type": "markdown",
   "metadata": {},
   "source": [
    "Vraag: hoe groot moet de hoek zijn om een (regelmatige) ster met 5 punten te tekenen?"
   ]
  },
  {
   "cell_type": "code",
   "execution_count": 27,
   "metadata": {},
   "outputs": [],
   "source": [
    "### Begin ster\n",
    "angle = 144\n",
    "points = 5\n",
    "### Eind ster\n",
    "\n",
    "def star(t, size):\n",
    "    for i in range(points):\n",
    "        t.forward(size)\n",
    "        t.right(angle)"
   ]
  },
  {
   "cell_type": "code",
   "execution_count": 29,
   "metadata": {},
   "outputs": [
    {
     "data": {
      "application/vnd.jupyter.widget-view+json": {
       "model_id": "fa7a0377809e4ffaad9a6eb6bbbe1a78",
       "version_major": 2,
       "version_minor": 0
      },
      "text/plain": [
       "Canvas(height=200, width=200)"
      ]
     },
     "metadata": {},
     "output_type": "display_data"
    }
   ],
   "source": [
    "stercanvas = Canvas(size=(200, 200))\n",
    "t_ster = turtle.Turtle(stercanvas)\n",
    "display(stercanvas)\n",
    "\n",
    "star(t_ster, 100)"
   ]
  },
  {
   "cell_type": "markdown",
   "metadata": {},
   "source": [
    "### Pijlen"
   ]
  },
  {
   "cell_type": "code",
   "execution_count": null,
   "metadata": {},
   "outputs": [],
   "source": []
  },
  {
   "cell_type": "code",
   "execution_count": null,
   "metadata": {},
   "outputs": [],
   "source": []
  },
  {
   "cell_type": "markdown",
   "metadata": {},
   "source": [
    "### Allemaal op 1 canvas"
   ]
  },
  {
   "cell_type": "code",
   "execution_count": null,
   "metadata": {},
   "outputs": [],
   "source": []
  },
  {
   "cell_type": "code",
   "execution_count": null,
   "metadata": {},
   "outputs": [],
   "source": []
  },
  {
   "cell_type": "code",
   "execution_count": null,
   "metadata": {},
   "outputs": [],
   "source": []
  },
  {
   "cell_type": "code",
   "execution_count": 6,
   "metadata": {},
   "outputs": [],
   "source": [
    "def triangle(t, w):\n",
    "    ### BEGIN SOLUTION\n",
    "    for i in range(3):\n",
    "        t.forward(w)\n",
    "        t.right(120)   \n",
    "    ### END SOLUTION\n",
    "        "
   ]
  },
  {
   "cell_type": "code",
   "execution_count": 7,
   "metadata": {},
   "outputs": [
    {
     "data": {
      "application/vnd.jupyter.widget-view+json": {
       "model_id": "92f489419b514bba9faab9c6f8ea74ba",
       "version_major": 2,
       "version_minor": 0
      },
      "text/plain": [
       "Canvas(layout=Layout(height='200px', width='200px'), size=(200, 200))"
      ]
     },
     "metadata": {},
     "output_type": "display_data"
    }
   ],
   "source": [
    "canvas2 = Canvas(size=(200, 200))\n",
    "t2 = turtle.Turtle(canvas2)\n",
    "\n",
    "triangle(t2, 40)\n",
    "triangle(t2, 50)\n",
    "triangle(t2, 60)\n",
    "canvas2"
   ]
  },
  {
   "cell_type": "code",
   "execution_count": 8,
   "metadata": {},
   "outputs": [
    {
     "data": {
      "application/vnd.jupyter.widget-view+json": {
       "model_id": "00c97091aece4733b880922d67f0eff0",
       "version_major": 2,
       "version_minor": 0
      },
      "text/plain": [
       "Canvas(layout=Layout(height='200px', width='200px'), size=(200, 200))"
      ]
     },
     "metadata": {},
     "output_type": "display_data"
    }
   ],
   "source": [
    "canvas3 = Canvas(size=(200, 200))\n",
    "t3 = turtle.Turtle(canvas3)\n",
    "\n",
    "t3.goto(-100,0)\n",
    "triangle(t3, 40)\n",
    "t3.pen_up()\n",
    "t3.forward(50)\n",
    "t3.pen_down()\n",
    "triangle(t3, 50)\n",
    "t3.forward(50)\n",
    "triangle(t3, 60)\n",
    "canvas3"
   ]
  },
  {
   "cell_type": "markdown",
   "metadata": {},
   "source": [
    "We kunnen de turtle op twee manieren verplaatsen zonder te tekenen: met `t.goto(x,y)`, naar een absolute positie; en door de pen van de turtle omhoog te doen voordat we een `forward` opdracht geven."
   ]
  },
  {
   "cell_type": "markdown",
   "metadata": {},
   "source": [
    "## Regelmatige veelhoeken\n",
    "\n",
    "We geven eerst een aantal voorbeelden van regelmatige veelhoeken.\n",
    "De opdracht is vervolgens om een functie te definiëren voor een willekeurige regelmatige veelhoek.\n",
    "\n",
    "* wat is de hoek waarover de turtle moet draaien in het geval van een 6-hoek? 8-hoek? n-hoek?\n",
    "\n",
    "Wat valt je op over de verhouding tussen de \"size\" en de \"straal\" van de veelhoek?\n"
   ]
  },
  {
   "cell_type": "code",
   "execution_count": 9,
   "metadata": {},
   "outputs": [],
   "source": [
    "def hexagon(t, size):\n",
    "    for i in range(6):\n",
    "        t.forward(size)\n",
    "        ### BEGIN SOLUTION\n",
    "        t.right(60)\n",
    "        ### END SOLUTION"
   ]
  },
  {
   "cell_type": "code",
   "execution_count": 10,
   "metadata": {},
   "outputs": [
    {
     "data": {
      "application/vnd.jupyter.widget-view+json": {
       "model_id": "138a7f113383460984b07b1bb0e43f76",
       "version_major": 2,
       "version_minor": 0
      },
      "text/plain": [
       "Canvas(layout=Layout(height='200px', width='200px'), size=(200, 200))"
      ]
     },
     "metadata": {},
     "output_type": "display_data"
    }
   ],
   "source": [
    "canvas4 = Canvas(size=(200, 200))\n",
    "t4 = turtle.Turtle(canvas4)\n",
    "\n",
    "hexagon(t4, 50)\n",
    "canvas4"
   ]
  },
  {
   "cell_type": "code",
   "execution_count": 3,
   "metadata": {},
   "outputs": [
    {
     "data": {
      "application/vnd.jupyter.widget-view+json": {
       "model_id": "fd7b6e1f2cb4428cbd47c582b40d732c",
       "version_major": 2,
       "version_minor": 0
      },
      "text/plain": [
       "Canvas(layout=Layout(height='200px', width='200px'), size=(200, 200))"
      ]
     },
     "metadata": {},
     "output_type": "display_data"
    }
   ],
   "source": [
    "t.forward(100)\n",
    "canvas"
   ]
  },
  {
   "cell_type": "code",
   "execution_count": 11,
   "metadata": {},
   "outputs": [],
   "source": [
    "def octagon(t, size):\n",
    "    for i in range(8):\n",
    "        t.forward(size)\n",
    "        ### BEGIN SOLUTION        \n",
    "        t.right(45)\n",
    "        ### END SOLUTION        "
   ]
  },
  {
   "cell_type": "code",
   "execution_count": 12,
   "metadata": {},
   "outputs": [
    {
     "data": {
      "application/vnd.jupyter.widget-view+json": {
       "model_id": "fa05b1bff2e74497bb710f044949903f",
       "version_major": 2,
       "version_minor": 0
      },
      "text/plain": [
       "Canvas(layout=Layout(height='200px', width='200px'), size=(200, 200))"
      ]
     },
     "metadata": {},
     "output_type": "display_data"
    }
   ],
   "source": [
    "canvas5 = Canvas(size=(200, 200))\n",
    "t5 = turtle.Turtle(canvas5)\n",
    "\n",
    "t5.goto(0,-50)\n",
    "octagon(t5, 50)\n",
    "canvas5"
   ]
  },
  {
   "cell_type": "markdown",
   "metadata": {},
   "source": [
    "### Opdracht: turtle met interactie\n",
    "\n",
    "Maak een programma-fragment voor het tekenen van een veelhoek, waarbij je het aantal hoeken en de stapgrootte met behulp van sliders kunt instellen."
   ]
  },
  {
   "cell_type": "markdown",
   "metadata": {},
   "source": [
    "## Spiralen\n",
    "\n",
    "We geven eerst een voorbeeld van een hoekige spiraal. Voor deze demonstratie gebruiken we ook een pauze tussen de verschillende tekenstappen."
   ]
  },
  {
   "cell_type": "code",
   "execution_count": 18,
   "metadata": {},
   "outputs": [
    {
     "data": {
      "application/vnd.jupyter.widget-view+json": {
       "model_id": "136842dd21744bd18dd344f1374a99b6",
       "version_major": 2,
       "version_minor": 0
      },
      "text/plain": [
       "Canvas(height=200, width=200)"
      ]
     },
     "metadata": {},
     "output_type": "display_data"
    }
   ],
   "source": [
    "import time\n",
    "\n",
    "canvas10 = Canvas(size=(200, 200))\n",
    "t10 = turtle.Turtle(canvas10)\n",
    "display(canvas10)\n",
    "\n",
    "for i in range(20):\n",
    "    t10.forward(i*10)\n",
    "    t10.right(90)\n",
    "    time.sleep(1)\n"
   ]
  },
  {
   "cell_type": "markdown",
   "metadata": {},
   "source": [
    "### Opdracht\n",
    "\n",
    "Maak een grafiek van een \"gladde(re)\" spiraal, door andere waarden te kiezen voor `factor` en `angle`."
   ]
  },
  {
   "cell_type": "code",
   "execution_count": 19,
   "metadata": {},
   "outputs": [
    {
     "data": {
      "application/vnd.jupyter.widget-view+json": {
       "model_id": "6ed155ca8f7a441d943ddb0db8c77333",
       "version_major": 2,
       "version_minor": 0
      },
      "text/plain": [
       "Canvas(height=200, width=200)"
      ]
     },
     "metadata": {},
     "output_type": "display_data"
    }
   ],
   "source": [
    "import time\n",
    "\n",
    "canvas11 = Canvas(size=(200, 200))\n",
    "t11 = turtle.Turtle(canvas11)\n",
    "display(canvas11)\n",
    "\n",
    "factor = 5\n",
    "angle = 90\n",
    "\n",
    "for i in range(50):\n",
    "    t11.forward(i*factor)\n",
    "    t11.right(angle)\n",
    "    time.sleep(0.1)\n",
    "\n"
   ]
  },
  {
   "cell_type": "markdown",
   "metadata": {},
   "source": [
    "## Recursieve figuren: bomen\n",
    "\n",
    "Een boom bestaat uit een basisvorm die in zichzelf herhaald wordt:\n",
    "een tak heeft dezelfde vorm als een boom, alleen kleiner.\n",
    "\n",
    "We geven hier de definitie van een eenvoudige \"binaire\" boom: een boom bestaat uit een stam en twee takken in de vorm van een kleinere boom. Als de grootte van de boom te klein wordt, hoeven we die niet meer te tekenen.\n",
    "\n",
    "* We kiezen hier eerst voor takken onder een hoek van 45'; experimenteer met andere waarden\n",
    "* We kiezen hier eerst voor subbomen die een factor 0.7 kleiner zijn dan de moederboom zijn; experimenteer met andere waarden voor deze factor."
   ]
  },
  {
   "cell_type": "code",
   "execution_count": 22,
   "metadata": {},
   "outputs": [],
   "source": [
    "def tree (t, size):\n",
    "    if size < 3:\n",
    "        return\n",
    "    t.forward(size)\n",
    "    t.left(45)\n",
    "    tree(t, size * 0.7)\n",
    "    t.right(90)\n",
    "    tree(t, size * 0.7)\n",
    "    t.right(135)\n",
    "    t.forward(size)\n",
    "    t.right(180)"
   ]
  },
  {
   "cell_type": "code",
   "execution_count": 23,
   "metadata": {},
   "outputs": [
    {
     "data": {
      "application/vnd.jupyter.widget-view+json": {
       "model_id": "3339502467d84f1b81a6af71596d2203",
       "version_major": 2,
       "version_minor": 0
      },
      "text/plain": [
       "Canvas(height=200, width=200)"
      ]
     },
     "metadata": {},
     "output_type": "display_data"
    }
   ],
   "source": [
    "canvas60 = Canvas(size=(200, 200))\n",
    "t60 = turtle.Turtle(canvas60)\n",
    "\n",
    "t60.goto(0,100)\n",
    "t60.left(90) # boom moet rechtop staan\n",
    "\n",
    "tree(t60, 50)\n",
    "canvas60"
   ]
  },
  {
   "cell_type": "markdown",
   "metadata": {},
   "source": [
    "### Opdrachten\n",
    "\n",
    "* maak een interactieve functie met sliders om met verschillende waarden te spelen, in het bijzonder met de hoek van de subbomen en de factor waarmee de subbomen verkleind worden.\n",
    "* experimenteer met asymmetrische bomen, bijvoorbeeld subbomen die onder verschillende hoeken staan."
   ]
  },
  {
   "cell_type": "code",
   "execution_count": null,
   "metadata": {},
   "outputs": [],
   "source": []
  },
  {
   "cell_type": "code",
   "execution_count": null,
   "metadata": {},
   "outputs": [],
   "source": []
  }
 ],
 "metadata": {
  "kernelspec": {
   "display_name": "Python 3",
   "language": "python",
   "name": "python3"
  },
  "language_info": {
   "codemirror_mode": {
    "name": "ipython",
    "version": 3
   },
   "file_extension": ".py",
   "mimetype": "text/x-python",
   "name": "python",
   "nbconvert_exporter": "python",
   "pygments_lexer": "ipython3",
   "version": "3.7.8"
  }
 },
 "nbformat": 4,
 "nbformat_minor": 2
}
