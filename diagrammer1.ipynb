{
 "cells": [
  {
   "cell_type": "markdown",
   "metadata": {},
   "source": [
    "# Diagrammer met Turtle graphics\n",
    "\n",
    "Dit notebook gebruikt Turtle graphics om verschillende vormen te tekenen. Exacte requirements hieronder\n",
    "\n",
    "We gebruiken de Canvas-library en een eenvoudige Turtle-module die daarop gebaseerd is. (Zie turtle.py)\n",
    "\n",
    "Dit materiaal is deels ontleend aan de nascholingsmodule VO Jupyter in een samenwerking tussen Bosswell-Beta en de UvA "
   ]
  },
  {
   "cell_type": "markdown",
   "metadata": {},
   "source": [
    "# Requirements: dit jupyter notebook maakt:"
   ]
  },
  {
   "cell_type": "markdown",
   "metadata": {},
   "source": [
    " 1. 6 vormen, namelijk: cirkels, vierkanten, rechthoeken, ovalen, sterren met vijf punten en pijlen.\n",
    " \n",
    " 2. De vormen zijn vast, maar er zijn per vorm enkele maten aan te geven. Een vierkant heeft bijvoorbeeld een “zijde” waarmee de hele vorm wordt vastgelegd. Een rechthoek heeft zowel een lengte als breedte.\n",
    "\n",
    " 3. Elke vorm heeft bovendien een positie die variabel is en bepaalt waar in het diagram de vorm geplaatst is.\n",
    "\n",
    " 4. Alle maten zijn in dezelfde eenheid gegeven, bijvoorbeeld pixels (maar de precieze aanduiding doet niet terzake).\n",
    "\n",
    " 5. Het belangrijkste deel van een figuur is een zogeheten Canvas, waar alle objecten zich op bevinden.\n",
    "\n",
    " 6. Elk Canvas heeft meerdere lagen (layers). Elk van de objecten in een diagram bevindt zich in feite op één van de lagen.\n",
    "\n",
    " 7. Elk object kan zichtbaar of onzichtbaar worden gemaakt.\n",
    "\n",
    " 8. Voor elk object kan een kleur van de rand en een kleur van de vulling worden ingesteld.\n",
    "\n",
    " 9. Elke laag kan in z’n geheel zichtbaar of onzichtbaar worden gemaakt.\n"
   ]
  },
  {
   "cell_type": "markdown",
   "metadata": {},
   "source": [
    "## 5. Canvas"
   ]
  },
  {
   "cell_type": "markdown",
   "metadata": {},
   "source": [
    "De \"turtle\" of t is de plek waar de pen (de coordinaten) het papier (een cartesiaans veld) raakt "
   ]
  },
  {
   "cell_type": "markdown",
   "metadata": {},
   "source": [
    "Het canvas is in eerste instantie leeg. Ook de her-initialisatie van de turtle, met t.init(), maakt het canvas weer leeg. \n",
    "Het canvas is het lege vel papier, waar je 1 of meerdere figuren op kan tekenen.\n"
   ]
  },
  {
   "cell_type": "code",
   "execution_count": 6,
   "metadata": {},
   "outputs": [],
   "source": [
    "from ipycanvas import Canvas\n",
    "import turtle"
   ]
  },
  {
   "cell_type": "code",
   "execution_count": 7,
   "metadata": {},
   "outputs": [
    {
     "data": {
      "text/plain": [
       "['__class__',\n",
       " '__delattr__',\n",
       " '__dict__',\n",
       " '__dir__',\n",
       " '__doc__',\n",
       " '__eq__',\n",
       " '__format__',\n",
       " '__ge__',\n",
       " '__getattribute__',\n",
       " '__gt__',\n",
       " '__hash__',\n",
       " '__init__',\n",
       " '__init_subclass__',\n",
       " '__le__',\n",
       " '__lt__',\n",
       " '__module__',\n",
       " '__ne__',\n",
       " '__new__',\n",
       " '__reduce__',\n",
       " '__reduce_ex__',\n",
       " '__repr__',\n",
       " '__setattr__',\n",
       " '__sizeof__',\n",
       " '__str__',\n",
       " '__subclasshook__',\n",
       " '__weakref__',\n",
       " 'back',\n",
       " 'forward',\n",
       " 'goto',\n",
       " 'init',\n",
       " 'left',\n",
       " 'pen_down',\n",
       " 'pen_up',\n",
       " 'right',\n",
       " 'set_color',\n",
       " 'to_position']"
      ]
     },
     "execution_count": 7,
     "metadata": {},
     "output_type": "execute_result"
    }
   ],
   "source": [
    "dir(turtle.Turtle)"
   ]
  },
  {
   "cell_type": "code",
   "execution_count": 8,
   "metadata": {},
   "outputs": [
    {
     "data": {
      "application/vnd.jupyter.widget-view+json": {
       "model_id": "2e318c0b8ce64a5580c40bc6371b562c",
       "version_major": 2,
       "version_minor": 0
      },
      "text/plain": [
       "Canvas(height=200, width=200)"
      ]
     },
     "metadata": {},
     "output_type": "display_data"
    }
   ],
   "source": [
    "canvas = Canvas(size=(200, 200))\n",
    "t = turtle.Turtle(canvas)\n",
    "canvas"
   ]
  },
  {
   "cell_type": "markdown",
   "metadata": {},
   "source": [
    "# 1. Vormen"
   ]
  },
  {
   "cell_type": "markdown",
   "metadata": {},
   "source": [
    "Eerst zullen we in dit notebook een \"vers\" Canvas geruiken per figuur: daarmee blijven de verschillende tussenstappen ook in het uiteidelijk volledig uitgevoerde notebook nog zichtbaar."
   ]
  },
  {
   "cell_type": "markdown",
   "metadata": {},
   "source": [
    "### Cirkels"
   ]
  },
  {
   "cell_type": "markdown",
   "metadata": {},
   "source": [
    "Cirkels zijn een complexere versie van de octagon. \n",
    "hoe vaker gebogen wordt, hoe preciezer de cirkel. \n",
    "Zie ook module J in de keuzevakken: programmeerparadigma's:\n",
    "https://jupyterhub.frajaweb.com/user/dazzlefish/notebooks/student/elm/1.%20Inleiding%20programmeerparadigma's/3.%20Programmeerparadigma's.ipynb: IJskristallen"
   ]
  },
  {
   "cell_type": "markdown",
   "metadata": {},
   "source": [
    "Maak hieronder de functie voor een regelmatige veelhoek, met `n` hoeken, af.\n",
    "* hoe vaak moet de elementaire actie herhaald worden?\n",
    "* over welke hoek moet de turtle draaien?\n"
   ]
  },
  {
   "cell_type": "code",
   "execution_count": 9,
   "metadata": {},
   "outputs": [],
   "source": [
    "def polygon(t, n, size):\n",
    "    ### BEGIN SOLUTION\n",
    "    for i in range(n):\n",
    "        t.forward(size)\n",
    "        t.right(360 / n)\n",
    "    ### END SOLUTION    "
   ]
  },
  {
   "cell_type": "code",
   "execution_count": 10,
   "metadata": {},
   "outputs": [
    {
     "data": {
      "application/vnd.jupyter.widget-view+json": {
       "model_id": "def9d640ad9845b08dde45938b833f22",
       "version_major": 2,
       "version_minor": 0
      },
      "text/plain": [
       "Canvas(height=300, width=200)"
      ]
     },
     "metadata": {},
     "output_type": "display_data"
    }
   ],
   "source": [
    "cirkelcanvas = Canvas(size=(200, 300))\n",
    "t_cirkel = turtle.Turtle(cirkelcanvas)\n",
    "\n",
    "t_cirkel.goto(0,-50)\n",
    "polygon(t_cirkel, 35, 15)\n",
    "cirkelcanvas"
   ]
  },
  {
   "cell_type": "markdown",
   "metadata": {},
   "source": [
    "### Vierkanten"
   ]
  },
  {
   "cell_type": "code",
   "execution_count": 11,
   "metadata": {},
   "outputs": [],
   "source": [
    "def square(t, w):\n",
    "    for i in range(4):\n",
    "        t.forward(w)\n",
    "        t.right(90)\n",
    "    "
   ]
  },
  {
   "cell_type": "code",
   "execution_count": 12,
   "metadata": {},
   "outputs": [
    {
     "data": {
      "application/vnd.jupyter.widget-view+json": {
       "model_id": "c3e0ba6e86454de0bc702667c73c10f4",
       "version_major": 2,
       "version_minor": 0
      },
      "text/plain": [
       "Canvas(height=200, width=200)"
      ]
     },
     "metadata": {},
     "output_type": "display_data"
    }
   ],
   "source": [
    "vierkantcanvas = Canvas(size=(200, 200))\n",
    "t_cirkel = turtle.Turtle(vierkantcanvas)\n",
    "square(t_cirkel, 60)\n",
    "vierkantcanvas"
   ]
  },
  {
   "cell_type": "markdown",
   "metadata": {},
   "source": [
    "### Rechthoeken"
   ]
  },
  {
   "cell_type": "code",
   "execution_count": 13,
   "metadata": {},
   "outputs": [],
   "source": [
    "def rectangle(t, w, z):\n",
    "    for i in range(2):\n",
    "        t.forward(w)\n",
    "        t.right(90)\n",
    "        t.forward(z)\n",
    "        t.right(90)"
   ]
  },
  {
   "cell_type": "code",
   "execution_count": 14,
   "metadata": {},
   "outputs": [
    {
     "data": {
      "application/vnd.jupyter.widget-view+json": {
       "model_id": "47607a64ac7849189c01ba6dd3b42e53",
       "version_major": 2,
       "version_minor": 0
      },
      "text/plain": [
       "Canvas(height=200, width=200)"
      ]
     },
     "metadata": {},
     "output_type": "display_data"
    }
   ],
   "source": [
    "rechthoekcanvas = Canvas(size=(200, 200))\n",
    "t_rechthoek = turtle.Turtle(rechthoekcanvas)\n",
    "\n",
    "rectangle(t_rechthoek, 70, 30)\n",
    "rechthoekcanvas"
   ]
  },
  {
   "cell_type": "markdown",
   "metadata": {},
   "source": [
    "### Ovalen"
   ]
  },
  {
   "cell_type": "code",
   "execution_count": 15,
   "metadata": {},
   "outputs": [],
   "source": [
    "\n",
    "def polygon(t, n, size):\n",
    "    ### BEGIN SOLUTION\n",
    "    for i in range(n):\n",
    "        t.forward(size)\n",
    "        t.right(360 / n)\n",
    "    ### END SOLUTION \n",
    "\n",
    "# method to draw ellipse \n",
    "def oval(t , rad): \n",
    "      \n",
    "        \n",
    "  #polygon(t, n, size)      \n",
    "  # rad --> radius of arc \n",
    "  for i in range(2): \n",
    "      \n",
    "    # two arcs \n",
    "    polygon(t, rad,90) \n",
    "    polygon(t, rad//2,90) \n",
    "  \n"
   ]
  },
  {
   "cell_type": "code",
   "execution_count": 16,
   "metadata": {},
   "outputs": [
    {
     "data": {
      "application/vnd.jupyter.widget-view+json": {
       "model_id": "414883b9754b454b9d0e833d4e0cac03",
       "version_major": 2,
       "version_minor": 0
      },
      "text/plain": [
       "Canvas(height=200, width=200)"
      ]
     },
     "metadata": {},
     "output_type": "display_data"
    }
   ],
   "source": [
    "ovaalcanvas = Canvas(size=(200, 200))\n",
    "t_ovaal = turtle.Turtle(ovaalcanvas)\n",
    "\n",
    "oval(t_ovaal, 15)\n",
    "ovaalcanvas\n",
    "\n",
    "\n",
    "# Main section \n",
    "# tilt the shape to negative 45 \n",
    "#seth(-45) \n",
    "  \n",
    "# calling draw method \n",
    "#draw(100)"
   ]
  },
  {
   "cell_type": "code",
   "execution_count": 17,
   "metadata": {},
   "outputs": [],
   "source": [
    "def polygon(t, n, size):\n",
    "    ### BEGIN SOLUTION\n",
    "    for i in range(int(n)):\n",
    "        t.forward(size)\n",
    "        t.right(360 / n)\n",
    "    ### END SOLUTION \n",
    "    \n",
    "   # circle(rad,90) \n",
    "   # circle(rad//2,90) \n",
    "    \n",
    "def talloval(t,r):               # Verticle Oval\n",
    "    t.left(45)\n",
    "    for loop in range(2):      # Draws 2 halves of ellipse\n",
    "        polygon(t, 45, 10)    # Long curved part\n",
    "        #polygon(t, 45//2, 10)  # Short curved part\n",
    "    t.right(45)\n",
    "    #for loop in range(2):      # Draws 2 halves of ellipse\n",
    "     #   polygon(t, 45, 10)    # Log curved part\n",
    "      #  polygon(t, 45//2, 10)  # Short curved part"
   ]
  },
  {
   "cell_type": "code",
   "execution_count": 18,
   "metadata": {},
   "outputs": [
    {
     "data": {
      "application/vnd.jupyter.widget-view+json": {
       "model_id": "9e8143103b1f49e4b9fd97dbcc42d284",
       "version_major": 2,
       "version_minor": 0
      },
      "text/plain": [
       "Canvas(height=300, width=300)"
      ]
     },
     "metadata": {},
     "output_type": "display_data"
    }
   ],
   "source": [
    "ovaalcanvas = Canvas(size=(300, 300))\n",
    "t_ovaal = turtle.Turtle(ovaalcanvas)\n",
    "\n",
    "talloval(t_ovaal, 15)\n",
    "ovaalcanvas"
   ]
  },
  {
   "cell_type": "code",
   "execution_count": 19,
   "metadata": {},
   "outputs": [],
   "source": [
    "def myoval(t, size):\n",
    "    t.pen_up()\n",
    "    t.goto(-140,-75)\n",
    "    t.pen_down()\n",
    "    #t.setheading(-45)\n",
    "    t.set_color('red')"
   ]
  },
  {
   "cell_type": "code",
   "execution_count": 20,
   "metadata": {},
   "outputs": [],
   "source": [
    "def draw_oval(x,y,big_radius,small_radius,tilt):\n",
    "    t.pen_up()\n",
    "    t.goto(x,y)\n",
    "    t.pen_down()\n",
    "    #turtle.seth(-45+tilt)\n",
    "    t.set_color('red')\n",
    "    t.talloval(big_radius,90)\n",
    "    t.set_color('blue')\n",
    "    t.talloval(small_radius,90)\n",
    "    t.set_color('red')\n",
    "    t.talloval(big_radius,90)\n",
    "    t.set_color('blue')\n",
    "    talloval(small_radius,90)"
   ]
  },
  {
   "cell_type": "code",
   "execution_count": 21,
   "metadata": {},
   "outputs": [
    {
     "ename": "AttributeError",
     "evalue": "'Turtle' object has no attribute 'talloval'",
     "output_type": "error",
     "traceback": [
      "\u001b[0;31m---------------------------------------------------------------------------\u001b[0m",
      "\u001b[0;31mAttributeError\u001b[0m                            Traceback (most recent call last)",
      "\u001b[0;32m<ipython-input-21-38393adb045a>\u001b[0m in \u001b[0;36m<module>\u001b[0;34m\u001b[0m\n\u001b[1;32m      2\u001b[0m \u001b[0mt_ovaal\u001b[0m \u001b[0;34m=\u001b[0m \u001b[0mturtle\u001b[0m\u001b[0;34m.\u001b[0m\u001b[0mTurtle\u001b[0m\u001b[0;34m(\u001b[0m\u001b[0movaalcanvas\u001b[0m\u001b[0;34m)\u001b[0m\u001b[0;34m\u001b[0m\u001b[0;34m\u001b[0m\u001b[0m\n\u001b[1;32m      3\u001b[0m \u001b[0;31m#draw_oval(t_ovaal, 15)\u001b[0m\u001b[0;34m\u001b[0m\u001b[0;34m\u001b[0m\u001b[0;34m\u001b[0m\u001b[0m\n\u001b[0;32m----> 4\u001b[0;31m \u001b[0mdraw_oval\u001b[0m\u001b[0;34m(\u001b[0m\u001b[0;34m-\u001b[0m\u001b[0;36m100\u001b[0m\u001b[0;34m,\u001b[0m\u001b[0;34m-\u001b[0m\u001b[0;36m100\u001b[0m\u001b[0;34m,\u001b[0m\u001b[0;36m100\u001b[0m\u001b[0;34m,\u001b[0m\u001b[0;36m50\u001b[0m\u001b[0;34m,\u001b[0m\u001b[0;36m90\u001b[0m\u001b[0;34m)\u001b[0m\u001b[0;34m\u001b[0m\u001b[0;34m\u001b[0m\u001b[0m\n\u001b[0m\u001b[1;32m      5\u001b[0m \u001b[0mdraw_oval\u001b[0m\u001b[0;34m(\u001b[0m\u001b[0;36m0\u001b[0m\u001b[0;34m,\u001b[0m\u001b[0;36m0\u001b[0m\u001b[0;34m,\u001b[0m\u001b[0;36m100\u001b[0m\u001b[0;34m,\u001b[0m\u001b[0;36m30\u001b[0m\u001b[0;34m,\u001b[0m\u001b[0;36m0\u001b[0m\u001b[0;34m)\u001b[0m\u001b[0;34m\u001b[0m\u001b[0;34m\u001b[0m\u001b[0m\n\u001b[1;32m      6\u001b[0m \u001b[0mdraw_oval\u001b[0m\u001b[0;34m(\u001b[0m\u001b[0;36m0\u001b[0m\u001b[0;34m,\u001b[0m\u001b[0;34m-\u001b[0m\u001b[0;36m200\u001b[0m\u001b[0;34m,\u001b[0m\u001b[0;36m60\u001b[0m\u001b[0;34m,\u001b[0m\u001b[0;36m30\u001b[0m\u001b[0;34m,\u001b[0m\u001b[0;36m45\u001b[0m\u001b[0;34m)\u001b[0m\u001b[0;34m\u001b[0m\u001b[0;34m\u001b[0m\u001b[0m\n",
      "\u001b[0;32m<ipython-input-20-f368ec2ae04b>\u001b[0m in \u001b[0;36mdraw_oval\u001b[0;34m(x, y, big_radius, small_radius, tilt)\u001b[0m\n\u001b[1;32m      5\u001b[0m     \u001b[0;31m#turtle.seth(-45+tilt)\u001b[0m\u001b[0;34m\u001b[0m\u001b[0;34m\u001b[0m\u001b[0;34m\u001b[0m\u001b[0m\n\u001b[1;32m      6\u001b[0m     \u001b[0mt\u001b[0m\u001b[0;34m.\u001b[0m\u001b[0mset_color\u001b[0m\u001b[0;34m(\u001b[0m\u001b[0;34m'red'\u001b[0m\u001b[0;34m)\u001b[0m\u001b[0;34m\u001b[0m\u001b[0;34m\u001b[0m\u001b[0m\n\u001b[0;32m----> 7\u001b[0;31m     \u001b[0mt\u001b[0m\u001b[0;34m.\u001b[0m\u001b[0mtalloval\u001b[0m\u001b[0;34m(\u001b[0m\u001b[0mbig_radius\u001b[0m\u001b[0;34m,\u001b[0m\u001b[0;36m90\u001b[0m\u001b[0;34m)\u001b[0m\u001b[0;34m\u001b[0m\u001b[0;34m\u001b[0m\u001b[0m\n\u001b[0m\u001b[1;32m      8\u001b[0m     \u001b[0mt\u001b[0m\u001b[0;34m.\u001b[0m\u001b[0mset_color\u001b[0m\u001b[0;34m(\u001b[0m\u001b[0;34m'blue'\u001b[0m\u001b[0;34m)\u001b[0m\u001b[0;34m\u001b[0m\u001b[0;34m\u001b[0m\u001b[0m\n\u001b[1;32m      9\u001b[0m     \u001b[0mt\u001b[0m\u001b[0;34m.\u001b[0m\u001b[0mtalloval\u001b[0m\u001b[0;34m(\u001b[0m\u001b[0msmall_radius\u001b[0m\u001b[0;34m,\u001b[0m\u001b[0;36m90\u001b[0m\u001b[0;34m)\u001b[0m\u001b[0;34m\u001b[0m\u001b[0;34m\u001b[0m\u001b[0m\n",
      "\u001b[0;31mAttributeError\u001b[0m: 'Turtle' object has no attribute 'talloval'"
     ]
    }
   ],
   "source": [
    "ovaalcanvas = Canvas(size=(300, 300))\n",
    "t_ovaal = turtle.Turtle(ovaalcanvas)\n",
    "#draw_oval(t_ovaal, 15)\n",
    "draw_oval(-100,-100,100,50,90)\n",
    "draw_oval(0,0,100,30,0)\n",
    "draw_oval(0,-200,60,30,45)\n",
    "ovaalcanvas"
   ]
  },
  {
   "cell_type": "code",
   "execution_count": 61,
   "metadata": {},
   "outputs": [],
   "source": [
    "def ellipse(self, x_radius, y_radius, steps=60):\n",
    "\n",
    "    down = self.is_down()  # record pen state for restoration later\n",
    "\n",
    "    if not down:\n",
    "        self.pen_down()\n",
    "\n",
    "    heading_radians = math.radians(self.heading())\n",
    "    theta_radians = -math.pi / 2\n",
    "    extent_radians = 2 * math.pi\n",
    "    step_radians = extent_radians / steps\n",
    "    extent_radians += theta_radians\n",
    "    x_center, y_start = self.position()\n",
    "    y_center = y_start + y_radius\n",
    "\n",
    "    cos_heading, sin_heading = math.cos(heading_radians), math.sin(heading_radians)\n",
    "\n",
    "    while True:\n",
    "        x, y = x_center + math.cos(theta_radians) * x_radius, y_center + math.sin(theta_radians) * y_radius\n",
    "        # readjust x & y to set the angle of the ellipse based on the original heading of the turtle\n",
    "        x, y = x - x_center, y - y_start\n",
    "        x, y = x * cos_heading - y * sin_heading, x * sin_heading + y * cos_heading\n",
    "        x, y = x + x_center, y + y_start\n",
    "\n",
    "        self.setheading(self.towards(x, y))  # turtle faces direction in which ellipse is drawn\n",
    "        self.goto(x, y)\n",
    "\n",
    "        if theta_radians == extent_radians:\n",
    "            break\n",
    "\n",
    "        theta_radians = min(theta_radians + step_radians, extent_radians)  # don't overshoot our starting point\n",
    "\n",
    "    self.setheading(self.towards(x_center, y_start))  # set correct heading for the next thing we draw\n",
    "\n",
    "    if not down:  # restore pen state on return\n",
    "        self.pen_up()"
   ]
  },
  {
   "cell_type": "code",
   "execution_count": 62,
   "metadata": {},
   "outputs": [],
   "source": [
    "def draw_O():\n",
    "    # Draw an O\n",
    "    letter_width = 10\n",
    "    letter_height = 170\n",
    "    space_width = 5\n",
    "    \n",
    "    t.pen_up()\n",
    "    t.forward(letter_height/4)\n",
    "    t.pen_down()\n",
    "\n",
    "    ellipse(turtle, letter_width, letter_height)\n",
    "\n",
    "    t.pen_up()\n",
    "    t.forward(space_width + letter_height/4)\n",
    "    t.pen_down()\n",
    "\n",
    "\n",
    "#turtle.onkey(draw_O, \"o\")\n",
    "\n"
   ]
  },
  {
   "cell_type": "code",
   "execution_count": 63,
   "metadata": {},
   "outputs": [
    {
     "ename": "AttributeError",
     "evalue": "module 'turtle' has no attribute 'is_down'",
     "output_type": "error",
     "traceback": [
      "\u001b[0;31m---------------------------------------------------------------------------\u001b[0m",
      "\u001b[0;31mAttributeError\u001b[0m                            Traceback (most recent call last)",
      "\u001b[0;32m<ipython-input-63-2efb0b128aa8>\u001b[0m in \u001b[0;36m<module>\u001b[0;34m\u001b[0m\n\u001b[1;32m      1\u001b[0m \u001b[0movaalcanvas\u001b[0m \u001b[0;34m=\u001b[0m \u001b[0mCanvas\u001b[0m\u001b[0;34m(\u001b[0m\u001b[0msize\u001b[0m\u001b[0;34m=\u001b[0m\u001b[0;34m(\u001b[0m\u001b[0;36m300\u001b[0m\u001b[0;34m,\u001b[0m \u001b[0;36m300\u001b[0m\u001b[0;34m)\u001b[0m\u001b[0;34m)\u001b[0m\u001b[0;34m\u001b[0m\u001b[0;34m\u001b[0m\u001b[0m\n\u001b[1;32m      2\u001b[0m \u001b[0mt_ovaal\u001b[0m \u001b[0;34m=\u001b[0m \u001b[0mturtle\u001b[0m\u001b[0;34m.\u001b[0m\u001b[0mTurtle\u001b[0m\u001b[0;34m(\u001b[0m\u001b[0movaalcanvas\u001b[0m\u001b[0;34m)\u001b[0m\u001b[0;34m\u001b[0m\u001b[0;34m\u001b[0m\u001b[0m\n\u001b[0;32m----> 3\u001b[0;31m \u001b[0mdraw_O\u001b[0m\u001b[0;34m(\u001b[0m\u001b[0;34m)\u001b[0m\u001b[0;34m\u001b[0m\u001b[0;34m\u001b[0m\u001b[0m\n\u001b[0m\u001b[1;32m      4\u001b[0m \u001b[0movaalcanvas\u001b[0m\u001b[0;34m\u001b[0m\u001b[0;34m\u001b[0m\u001b[0m\n",
      "\u001b[0;32m<ipython-input-62-2e51a03c790c>\u001b[0m in \u001b[0;36mdraw_O\u001b[0;34m()\u001b[0m\n\u001b[1;32m      9\u001b[0m     \u001b[0mt\u001b[0m\u001b[0;34m.\u001b[0m\u001b[0mpen_down\u001b[0m\u001b[0;34m(\u001b[0m\u001b[0;34m)\u001b[0m\u001b[0;34m\u001b[0m\u001b[0;34m\u001b[0m\u001b[0m\n\u001b[1;32m     10\u001b[0m \u001b[0;34m\u001b[0m\u001b[0m\n\u001b[0;32m---> 11\u001b[0;31m     \u001b[0mellipse\u001b[0m\u001b[0;34m(\u001b[0m\u001b[0mturtle\u001b[0m\u001b[0;34m,\u001b[0m \u001b[0mletter_width\u001b[0m\u001b[0;34m,\u001b[0m \u001b[0mletter_height\u001b[0m\u001b[0;34m)\u001b[0m\u001b[0;34m\u001b[0m\u001b[0;34m\u001b[0m\u001b[0m\n\u001b[0m\u001b[1;32m     12\u001b[0m \u001b[0;34m\u001b[0m\u001b[0m\n\u001b[1;32m     13\u001b[0m     \u001b[0mt\u001b[0m\u001b[0;34m.\u001b[0m\u001b[0mpenup\u001b[0m\u001b[0;34m(\u001b[0m\u001b[0;34m)\u001b[0m\u001b[0;34m\u001b[0m\u001b[0;34m\u001b[0m\u001b[0m\n",
      "\u001b[0;32m<ipython-input-61-0b1b4a109b82>\u001b[0m in \u001b[0;36mellipse\u001b[0;34m(self, x_radius, y_radius, steps)\u001b[0m\n\u001b[1;32m      1\u001b[0m \u001b[0;32mdef\u001b[0m \u001b[0mellipse\u001b[0m\u001b[0;34m(\u001b[0m\u001b[0mself\u001b[0m\u001b[0;34m,\u001b[0m \u001b[0mx_radius\u001b[0m\u001b[0;34m,\u001b[0m \u001b[0my_radius\u001b[0m\u001b[0;34m,\u001b[0m \u001b[0msteps\u001b[0m\u001b[0;34m=\u001b[0m\u001b[0;36m60\u001b[0m\u001b[0;34m)\u001b[0m\u001b[0;34m:\u001b[0m\u001b[0;34m\u001b[0m\u001b[0;34m\u001b[0m\u001b[0m\n\u001b[1;32m      2\u001b[0m \u001b[0;34m\u001b[0m\u001b[0m\n\u001b[0;32m----> 3\u001b[0;31m     \u001b[0mdown\u001b[0m \u001b[0;34m=\u001b[0m \u001b[0mself\u001b[0m\u001b[0;34m.\u001b[0m\u001b[0mis_down\u001b[0m\u001b[0;34m(\u001b[0m\u001b[0;34m)\u001b[0m  \u001b[0;31m# record pen state for restoration later\u001b[0m\u001b[0;34m\u001b[0m\u001b[0;34m\u001b[0m\u001b[0m\n\u001b[0m\u001b[1;32m      4\u001b[0m \u001b[0;34m\u001b[0m\u001b[0m\n\u001b[1;32m      5\u001b[0m     \u001b[0;32mif\u001b[0m \u001b[0;32mnot\u001b[0m \u001b[0mdown\u001b[0m\u001b[0;34m:\u001b[0m\u001b[0;34m\u001b[0m\u001b[0;34m\u001b[0m\u001b[0m\n",
      "\u001b[0;31mAttributeError\u001b[0m: module 'turtle' has no attribute 'is_down'"
     ]
    }
   ],
   "source": [
    "ovaalcanvas = Canvas(size=(300, 300))\n",
    "t_ovaal = turtle.Turtle(ovaalcanvas)\n",
    "draw_O()\n",
    "ovaalcanvas"
   ]
  },
  {
   "cell_type": "code",
   "execution_count": 48,
   "metadata": {},
   "outputs": [],
   "source": [
    "import math\n",
    "from turtle import Turtle\n",
    "\n",
    "#my_screen = Screen()\n",
    "\n",
    "#my_turtle = Turtle(visible=False)\n",
    "#my_turtle.speed('fastest')\n",
    "#my_turtle.radians()\n",
    "#my_turtle.penup()\n",
    "\n",
    "def ov(t):\n",
    "    e = 0.5  # linear eccentricity\n",
    "    a = 200  # semi major axis\n",
    "    c = e * a  # distance from center to focal point\n",
    "\n",
    "    t.goto(-c, 0)  # starting at a focal point\n",
    "    there = (2 * c, 0)  # initialize previous point visited\n",
    "\n",
    "    step = 0.1\n",
    "\n",
    "    theta = step  # already at starting point, so calculate next point\n",
    "\n",
    "    while theta < math.pi * 2 + step:  # overshoot to close curve\n",
    "\n",
    "        # draw ellipse from one focus point\n",
    "        #t.setheading(theta)\n",
    "\n",
    "        distance = a * (1 - e * e) / (1 - e * math.cos(theta))\n",
    "\n",
    "        t.forward(distance)\n",
    "        #here = t.position()\n",
    "        t.pen_down()\n",
    "        t.goto(there,20)  # draw line from last position to this one\n",
    "        t.pen_up()  # comment out to demonstrate algorithm\n",
    "        t.goto(-c, 0)  # return to focal point\n",
    "        #there = here\n",
    "\n",
    "        theta += step\n",
    "\n",
    "    #my_screen.exitonclick()"
   ]
  },
  {
   "cell_type": "code",
   "execution_count": 49,
   "metadata": {},
   "outputs": [
    {
     "data": {
      "application/vnd.jupyter.widget-view+json": {
       "model_id": "7a88d4528d06427b93e447aaf8a306a3",
       "version_major": 2,
       "version_minor": 0
      },
      "text/plain": [
       "Canvas(height=300, width=300)"
      ]
     },
     "metadata": {},
     "output_type": "display_data"
    }
   ],
   "source": [
    "ovaalcanvas = Canvas(size=(300, 300))\n",
    "t_ovaal = turtle.Turtle(ovaalcanvas)\n",
    "\n",
    "ov(t_ovaal)\n",
    "ovaalcanvas"
   ]
  },
  {
   "cell_type": "code",
   "execution_count": 56,
   "metadata": {},
   "outputs": [
    {
     "data": {
      "application/vnd.jupyter.widget-view+json": {
       "model_id": "b4e45490bf5c4637a127d3fa77d26e88",
       "version_major": 2,
       "version_minor": 0
      },
      "text/plain": [
       "Canvas(height=200, width=200)"
      ]
     },
     "metadata": {},
     "output_type": "display_data"
    }
   ],
   "source": [
    "ovaalcanvas = Canvas(size=(200, 200))\n",
    "t_ovaal = turtle.Turtle(ovaalcanvas)\n",
    "\n",
    "#ov(t_ovaal)\n",
    "ovaalcanvas.ellipse\n",
    "ovaalcanvas"
   ]
  },
  {
   "cell_type": "code",
   "execution_count": 64,
   "metadata": {},
   "outputs": [
    {
     "data": {
      "text/plain": [
       "['__class__',\n",
       " '__delattr__',\n",
       " '__dict__',\n",
       " '__dir__',\n",
       " '__doc__',\n",
       " '__eq__',\n",
       " '__format__',\n",
       " '__ge__',\n",
       " '__getattribute__',\n",
       " '__gt__',\n",
       " '__hash__',\n",
       " '__init__',\n",
       " '__init_subclass__',\n",
       " '__le__',\n",
       " '__lt__',\n",
       " '__module__',\n",
       " '__ne__',\n",
       " '__new__',\n",
       " '__reduce__',\n",
       " '__reduce_ex__',\n",
       " '__repr__',\n",
       " '__setattr__',\n",
       " '__sizeof__',\n",
       " '__str__',\n",
       " '__subclasshook__',\n",
       " '__weakref__',\n",
       " 'back',\n",
       " 'forward',\n",
       " 'goto',\n",
       " 'init',\n",
       " 'left',\n",
       " 'pen_down',\n",
       " 'pen_up',\n",
       " 'right',\n",
       " 'set_color',\n",
       " 'to_position']"
      ]
     },
     "execution_count": 64,
     "metadata": {},
     "output_type": "execute_result"
    }
   ],
   "source": [
    "dir (turtle.Turtle)"
   ]
  },
  {
   "cell_type": "code",
   "execution_count": 65,
   "metadata": {},
   "outputs": [
    {
     "name": "stdout",
     "output_type": "stream",
     "text": [
      "Collecting turtle\n",
      "  Downloading turtle-0.0.2.tar.gz (11 kB)\n",
      "\u001b[31m    ERROR: Command errored out with exit status 1:\n",
      "     command: /srv/conda/envs/notebook/bin/python -c 'import sys, setuptools, tokenize; sys.argv[0] = '\"'\"'/tmp/pip-install-5cd4wzy7/turtle/setup.py'\"'\"'; __file__='\"'\"'/tmp/pip-install-5cd4wzy7/turtle/setup.py'\"'\"';f=getattr(tokenize, '\"'\"'open'\"'\"', open)(__file__);code=f.read().replace('\"'\"'\\r\\n'\"'\"', '\"'\"'\\n'\"'\"');f.close();exec(compile(code, __file__, '\"'\"'exec'\"'\"'))' egg_info --egg-base /tmp/pip-pip-egg-info-rq5urq2_\n",
      "         cwd: /tmp/pip-install-5cd4wzy7/turtle/\n",
      "    Complete output (6 lines):\n",
      "    Traceback (most recent call last):\n",
      "      File \"<string>\", line 1, in <module>\n",
      "      File \"/tmp/pip-install-5cd4wzy7/turtle/setup.py\", line 40\n",
      "        except ValueError, ve:\n",
      "                         ^\n",
      "    SyntaxError: invalid syntax\n",
      "    ----------------------------------------\u001b[0m\n",
      "\u001b[31mERROR: Command errored out with exit status 1: python setup.py egg_info Check the logs for full command output.\u001b[0m\n",
      "Note: you may need to restart the kernel to use updated packages.\n"
     ]
    }
   ],
   "source": [
    "pip install turtle"
   ]
  },
  {
   "cell_type": "markdown",
   "metadata": {},
   "source": [
    "### Sterren met 5 punten"
   ]
  },
  {
   "cell_type": "markdown",
   "metadata": {},
   "source": [
    "Vraag: hoe groot moet de hoek zijn om een (regelmatige) ster met 5 punten te tekenen?"
   ]
  },
  {
   "cell_type": "code",
   "execution_count": 39,
   "metadata": {},
   "outputs": [],
   "source": [
    "### Begin ster\n",
    "angle = 144\n",
    "points = 5\n",
    "### Eind ster\n",
    "\n",
    "def star(t, size):\n",
    "    for i in range(points):\n",
    "        t.forward(size)\n",
    "        t.right(angle)"
   ]
  },
  {
   "cell_type": "code",
   "execution_count": 40,
   "metadata": {},
   "outputs": [
    {
     "data": {
      "application/vnd.jupyter.widget-view+json": {
       "model_id": "31f5cd4b4600437baa7e836f8f61b0fe",
       "version_major": 2,
       "version_minor": 0
      },
      "text/plain": [
       "Canvas(height=200, width=200)"
      ]
     },
     "metadata": {},
     "output_type": "display_data"
    }
   ],
   "source": [
    "stercanvas = Canvas(size=(200, 200))\n",
    "t_ster = turtle.Turtle(stercanvas)\n",
    "display(stercanvas)\n",
    "\n",
    "star(t_ster, 100)"
   ]
  },
  {
   "cell_type": "markdown",
   "metadata": {},
   "source": [
    "### Pijlen"
   ]
  },
  {
   "cell_type": "code",
   "execution_count": null,
   "metadata": {},
   "outputs": [],
   "source": []
  },
  {
   "cell_type": "code",
   "execution_count": null,
   "metadata": {},
   "outputs": [],
   "source": []
  },
  {
   "cell_type": "markdown",
   "metadata": {},
   "source": [
    "### Allemaal op 1 canvas"
   ]
  },
  {
   "cell_type": "code",
   "execution_count": null,
   "metadata": {},
   "outputs": [],
   "source": []
  },
  {
   "cell_type": "code",
   "execution_count": null,
   "metadata": {},
   "outputs": [],
   "source": []
  },
  {
   "cell_type": "code",
   "execution_count": null,
   "metadata": {},
   "outputs": [],
   "source": []
  },
  {
   "cell_type": "code",
   "execution_count": 154,
   "metadata": {},
   "outputs": [],
   "source": [
    "def triangle(t, w):\n",
    "    ### BEGIN SOLUTION\n",
    "    for i in range(3):\n",
    "        t.forward(w)\n",
    "        t.right(120)   \n",
    "    ### END SOLUTION\n",
    "        "
   ]
  },
  {
   "cell_type": "code",
   "execution_count": 155,
   "metadata": {},
   "outputs": [
    {
     "data": {
      "application/vnd.jupyter.widget-view+json": {
       "model_id": "eaf82cbcad2e4fd5aaa1c185c2e22d2f",
       "version_major": 2,
       "version_minor": 0
      },
      "text/plain": [
       "Canvas(height=200, width=200)"
      ]
     },
     "metadata": {},
     "output_type": "display_data"
    }
   ],
   "source": [
    "canvas2 = Canvas(size=(200, 200))\n",
    "t2 = turtle.Turtle(canvas2)\n",
    "\n",
    "triangle(t2, 40)\n",
    "triangle(t2, 50)\n",
    "triangle(t2, 60)\n",
    "canvas2"
   ]
  },
  {
   "cell_type": "code",
   "execution_count": 157,
   "metadata": {},
   "outputs": [
    {
     "ename": "AttributeError",
     "evalue": "'Turtle' object has no attribute 'penup'",
     "output_type": "error",
     "traceback": [
      "\u001b[0;31m---------------------------------------------------------------------------\u001b[0m",
      "\u001b[0;31mAttributeError\u001b[0m                            Traceback (most recent call last)",
      "\u001b[0;32m<ipython-input-157-9bece5da4a80>\u001b[0m in \u001b[0;36m<module>\u001b[0;34m\u001b[0m\n\u001b[1;32m      4\u001b[0m \u001b[0mt3\u001b[0m\u001b[0;34m.\u001b[0m\u001b[0mgoto\u001b[0m\u001b[0;34m(\u001b[0m\u001b[0;34m-\u001b[0m\u001b[0;36m100\u001b[0m\u001b[0;34m,\u001b[0m\u001b[0;36m0\u001b[0m\u001b[0;34m)\u001b[0m\u001b[0;34m\u001b[0m\u001b[0;34m\u001b[0m\u001b[0m\n\u001b[1;32m      5\u001b[0m \u001b[0mtriangle\u001b[0m\u001b[0;34m(\u001b[0m\u001b[0mt3\u001b[0m\u001b[0;34m,\u001b[0m \u001b[0;36m40\u001b[0m\u001b[0;34m)\u001b[0m\u001b[0;34m\u001b[0m\u001b[0;34m\u001b[0m\u001b[0m\n\u001b[0;32m----> 6\u001b[0;31m \u001b[0mt3\u001b[0m\u001b[0;34m.\u001b[0m\u001b[0mpenup\u001b[0m\u001b[0;34m(\u001b[0m\u001b[0;34m)\u001b[0m\u001b[0;34m\u001b[0m\u001b[0;34m\u001b[0m\u001b[0m\n\u001b[0m\u001b[1;32m      7\u001b[0m \u001b[0mt3\u001b[0m\u001b[0;34m.\u001b[0m\u001b[0mforward\u001b[0m\u001b[0;34m(\u001b[0m\u001b[0;36m50\u001b[0m\u001b[0;34m)\u001b[0m\u001b[0;34m\u001b[0m\u001b[0;34m\u001b[0m\u001b[0m\n\u001b[1;32m      8\u001b[0m \u001b[0mt3\u001b[0m\u001b[0;34m.\u001b[0m\u001b[0mpen_down\u001b[0m\u001b[0;34m(\u001b[0m\u001b[0;34m)\u001b[0m\u001b[0;34m\u001b[0m\u001b[0;34m\u001b[0m\u001b[0m\n",
      "\u001b[0;31mAttributeError\u001b[0m: 'Turtle' object has no attribute 'penup'"
     ]
    }
   ],
   "source": [
    "canvas3 = Canvas(size=(200, 200))\n",
    "t3 = turtle.Turtle(canvas3)\n",
    "\n",
    "t3.goto(-100,0)\n",
    "triangle(t3, 40)\n",
    "t3.pen_up()\n",
    "t3.forward(50)\n",
    "t3.pen_down()\n",
    "triangle(t3, 50)\n",
    "t3.forward(50)\n",
    "triangle(t3, 60)\n",
    "canvas3"
   ]
  },
  {
   "cell_type": "markdown",
   "metadata": {},
   "source": [
    "We kunnen de turtle op twee manieren verplaatsen zonder te tekenen: met `t.goto(x,y)`, naar een absolute positie; en door de pen van de turtle omhoog te doen voordat we een `forward` opdracht geven."
   ]
  },
  {
   "cell_type": "markdown",
   "metadata": {},
   "source": [
    "## Regelmatige veelhoeken\n",
    "\n",
    "We geven eerst een aantal voorbeelden van regelmatige veelhoeken.\n",
    "De opdracht is vervolgens om een functie te definiëren voor een willekeurige regelmatige veelhoek.\n",
    "\n",
    "* wat is de hoek waarover de turtle moet draaien in het geval van een 6-hoek? 8-hoek? n-hoek?\n",
    "\n",
    "Wat valt je op over de verhouding tussen de \"size\" en de \"straal\" van de veelhoek?\n"
   ]
  },
  {
   "cell_type": "code",
   "execution_count": 9,
   "metadata": {},
   "outputs": [],
   "source": [
    "def hexagon(t, size):\n",
    "    for i in range(6):\n",
    "        t.forward(size)\n",
    "        ### BEGIN SOLUTION\n",
    "        t.right(60)\n",
    "        ### END SOLUTION"
   ]
  },
  {
   "cell_type": "code",
   "execution_count": 10,
   "metadata": {},
   "outputs": [
    {
     "data": {
      "application/vnd.jupyter.widget-view+json": {
       "model_id": "138a7f113383460984b07b1bb0e43f76",
       "version_major": 2,
       "version_minor": 0
      },
      "text/plain": [
       "Canvas(layout=Layout(height='200px', width='200px'), size=(200, 200))"
      ]
     },
     "metadata": {},
     "output_type": "display_data"
    }
   ],
   "source": [
    "canvas4 = Canvas(size=(200, 200))\n",
    "t4 = turtle.Turtle(canvas4)\n",
    "\n",
    "hexagon(t4, 50)\n",
    "canvas4"
   ]
  },
  {
   "cell_type": "code",
   "execution_count": 3,
   "metadata": {},
   "outputs": [
    {
     "data": {
      "application/vnd.jupyter.widget-view+json": {
       "model_id": "fd7b6e1f2cb4428cbd47c582b40d732c",
       "version_major": 2,
       "version_minor": 0
      },
      "text/plain": [
       "Canvas(layout=Layout(height='200px', width='200px'), size=(200, 200))"
      ]
     },
     "metadata": {},
     "output_type": "display_data"
    }
   ],
   "source": [
    "t.forward(100)\n",
    "canvas"
   ]
  },
  {
   "cell_type": "code",
   "execution_count": 11,
   "metadata": {},
   "outputs": [],
   "source": [
    "def octagon(t, size):\n",
    "    for i in range(8):\n",
    "        t.forward(size)\n",
    "        ### BEGIN SOLUTION        \n",
    "        t.right(45)\n",
    "        ### END SOLUTION        "
   ]
  },
  {
   "cell_type": "code",
   "execution_count": 12,
   "metadata": {},
   "outputs": [
    {
     "data": {
      "application/vnd.jupyter.widget-view+json": {
       "model_id": "fa05b1bff2e74497bb710f044949903f",
       "version_major": 2,
       "version_minor": 0
      },
      "text/plain": [
       "Canvas(layout=Layout(height='200px', width='200px'), size=(200, 200))"
      ]
     },
     "metadata": {},
     "output_type": "display_data"
    }
   ],
   "source": [
    "canvas5 = Canvas(size=(200, 200))\n",
    "t5 = turtle.Turtle(canvas5)\n",
    "\n",
    "t5.goto(0,-50)\n",
    "octagon(t5, 50)\n",
    "canvas5"
   ]
  },
  {
   "cell_type": "markdown",
   "metadata": {},
   "source": [
    "### Opdracht: turtle met interactie\n",
    "\n",
    "Maak een programma-fragment voor het tekenen van een veelhoek, waarbij je het aantal hoeken en de stapgrootte met behulp van sliders kunt instellen."
   ]
  },
  {
   "cell_type": "markdown",
   "metadata": {},
   "source": [
    "## Spiralen\n",
    "\n",
    "We geven eerst een voorbeeld van een hoekige spiraal. Voor deze demonstratie gebruiken we ook een pauze tussen de verschillende tekenstappen."
   ]
  },
  {
   "cell_type": "code",
   "execution_count": 18,
   "metadata": {},
   "outputs": [
    {
     "data": {
      "application/vnd.jupyter.widget-view+json": {
       "model_id": "136842dd21744bd18dd344f1374a99b6",
       "version_major": 2,
       "version_minor": 0
      },
      "text/plain": [
       "Canvas(height=200, width=200)"
      ]
     },
     "metadata": {},
     "output_type": "display_data"
    }
   ],
   "source": [
    "import time\n",
    "\n",
    "canvas10 = Canvas(size=(200, 200))\n",
    "t10 = turtle.Turtle(canvas10)\n",
    "display(canvas10)\n",
    "\n",
    "for i in range(20):\n",
    "    t10.forward(i*10)\n",
    "    t10.right(90)\n",
    "    time.sleep(1)\n"
   ]
  },
  {
   "cell_type": "markdown",
   "metadata": {},
   "source": [
    "### Opdracht\n",
    "\n",
    "Maak een grafiek van een \"gladde(re)\" spiraal, door andere waarden te kiezen voor `factor` en `angle`."
   ]
  },
  {
   "cell_type": "code",
   "execution_count": 19,
   "metadata": {},
   "outputs": [
    {
     "data": {
      "application/vnd.jupyter.widget-view+json": {
       "model_id": "6ed155ca8f7a441d943ddb0db8c77333",
       "version_major": 2,
       "version_minor": 0
      },
      "text/plain": [
       "Canvas(height=200, width=200)"
      ]
     },
     "metadata": {},
     "output_type": "display_data"
    }
   ],
   "source": [
    "import time\n",
    "\n",
    "canvas11 = Canvas(size=(200, 200))\n",
    "t11 = turtle.Turtle(canvas11)\n",
    "display(canvas11)\n",
    "\n",
    "factor = 5\n",
    "angle = 90\n",
    "\n",
    "for i in range(50):\n",
    "    t11.forward(i*factor)\n",
    "    t11.right(angle)\n",
    "    time.sleep(0.1)\n",
    "\n"
   ]
  },
  {
   "cell_type": "markdown",
   "metadata": {},
   "source": [
    "## Recursieve figuren: bomen\n",
    "\n",
    "Een boom bestaat uit een basisvorm die in zichzelf herhaald wordt:\n",
    "een tak heeft dezelfde vorm als een boom, alleen kleiner.\n",
    "\n",
    "We geven hier de definitie van een eenvoudige \"binaire\" boom: een boom bestaat uit een stam en twee takken in de vorm van een kleinere boom. Als de grootte van de boom te klein wordt, hoeven we die niet meer te tekenen.\n",
    "\n",
    "* We kiezen hier eerst voor takken onder een hoek van 45'; experimenteer met andere waarden\n",
    "* We kiezen hier eerst voor subbomen die een factor 0.7 kleiner zijn dan de moederboom zijn; experimenteer met andere waarden voor deze factor."
   ]
  },
  {
   "cell_type": "code",
   "execution_count": 22,
   "metadata": {},
   "outputs": [],
   "source": [
    "def tree (t, size):\n",
    "    if size < 3:\n",
    "        return\n",
    "    t.forward(size)\n",
    "    t.left(45)\n",
    "    tree(t, size * 0.7)\n",
    "    t.right(90)\n",
    "    tree(t, size * 0.7)\n",
    "    t.right(135)\n",
    "    t.forward(size)\n",
    "    t.right(180)"
   ]
  },
  {
   "cell_type": "code",
   "execution_count": 23,
   "metadata": {},
   "outputs": [
    {
     "data": {
      "application/vnd.jupyter.widget-view+json": {
       "model_id": "3339502467d84f1b81a6af71596d2203",
       "version_major": 2,
       "version_minor": 0
      },
      "text/plain": [
       "Canvas(height=200, width=200)"
      ]
     },
     "metadata": {},
     "output_type": "display_data"
    }
   ],
   "source": [
    "canvas60 = Canvas(size=(200, 200))\n",
    "t60 = turtle.Turtle(canvas60)\n",
    "\n",
    "t60.goto(0,100)\n",
    "t60.left(90) # boom moet rechtop staan\n",
    "\n",
    "tree(t60, 50)\n",
    "canvas60"
   ]
  },
  {
   "cell_type": "markdown",
   "metadata": {},
   "source": [
    "### Opdrachten\n",
    "\n",
    "* maak een interactieve functie met sliders om met verschillende waarden te spelen, in het bijzonder met de hoek van de subbomen en de factor waarmee de subbomen verkleind worden.\n",
    "* experimenteer met asymmetrische bomen, bijvoorbeeld subbomen die onder verschillende hoeken staan."
   ]
  },
  {
   "cell_type": "code",
   "execution_count": null,
   "metadata": {},
   "outputs": [],
   "source": []
  },
  {
   "cell_type": "code",
   "execution_count": null,
   "metadata": {},
   "outputs": [],
   "source": []
  }
 ],
 "metadata": {
  "kernelspec": {
   "display_name": "Python 3",
   "language": "python",
   "name": "python3"
  },
  "language_info": {
   "codemirror_mode": {
    "name": "ipython",
    "version": 3
   },
   "file_extension": ".py",
   "mimetype": "text/x-python",
   "name": "python",
   "nbconvert_exporter": "python",
   "pygments_lexer": "ipython3",
   "version": "3.7.8"
  }
 },
 "nbformat": 4,
 "nbformat_minor": 2
}
